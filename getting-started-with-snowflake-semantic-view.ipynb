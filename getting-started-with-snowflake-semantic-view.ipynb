{
 "metadata": {
  "kernelspec": {
   "display_name": "Streamlit Notebook",
   "name": "streamlit"
  },
  "lastEditStatus": {
   "notebookId": "5mv33hstumvc4annsngw",
   "authorId": "3646535521326",
   "authorName": "KKRIZEK",
   "authorEmail": "Kevin.Krizek@snowflake.com",
   "sessionId": "b42ffc47-7f9c-4ca6-a812-3590157dc490",
   "lastEditTime": 1752542220128
  }
 },
 "nbformat_minor": 5,
 "nbformat": 4,
 "cells": [
  {
   "cell_type": "markdown",
   "id": "b2c83e2e-e59c-4ccd-ac51-3cb16515e422",
   "metadata": {
    "name": "md_title",
    "collapsed": false
   },
   "source": "# Getting Started with Snowflake Semantic View\n\nThis notebook guides you through setting up and querying a Snowflake Semantic View using TPC-DS sample data. You will learn how to:\n\n1.  Create a new database and schema.\n2.  Create views from existing sample data tables.\n3.  Define a Semantic View to simplify data analysis.\n4.  Query the Semantic View.\n5.  Explore the Semantic View in Cortex Analyst.\n\nLet's get started!"
  },
  {
   "cell_type": "markdown",
   "id": "638fcb07-5d39-413f-a685-cff868a36f87",
   "metadata": {
    "name": "md_step3",
    "collapsed": false
   },
   "source": "## Step 1: Verify your Environment Setup\n\nBefore proceeding, let's ensure our warehouse, database, and schema are correctly set, and then list the views we just created."
  },
  {
   "cell_type": "code",
   "id": "3775908f-ca36-4846-8f38-5adca39217f2",
   "metadata": {
    "language": "sql",
    "name": "sql_step3"
   },
   "source": "-- Select the warehouse, database, and schema\nUSE DATABASE <mdt3_default_database##>;          --change this\nUSE SCHEMA default_schema;              \n\n-- Show all views in the current schema to verify creation\nSHOW VIEWS;",
   "execution_count": null,
   "outputs": []
  },
  {
   "cell_type": "markdown",
   "id": "6a42b8b3-352d-4d16-aab7-50a68be1ae3c",
   "metadata": {
    "name": "md_step4",
    "collapsed": false
   },
   "source": "## Step 2: Define the Semantic View\n\nNow, we'll define our `TPCDS_SEMANTIC_VIEW_SM` semantic view. This view will establish relationships between our tables, define facts (measures), and dimensions (attributes), making it easier to query and analyze our data without complex joins."
  },
  {
   "cell_type": "code",
   "id": "8d50cbf4-0c8d-4950-86cb-114990437ac9",
   "metadata": {
    "language": "sql",
    "name": "sql_step4"
   },
   "source": "use role accountadmin;\n\n-- Create or replace the semantic view named TPCDS_SEMANTIC_VIEW_SM\nCREATE OR REPLACE SEMANTIC VIEW TPCDS_SEMANTIC_VIEW_SM\n\ttables (\n\t\tCUSTOMER PRIMARY KEY (C_CUSTOMER_SK)\n                 with synonyms('BUYER', 'PURCHASER', 'CLIENT', 'CONSUMER')\n                 comment = 'This table stores customer demographic information, specifically the birth year and country of origin, uniquely identified by a customer identifier (C_CUSTOMER_SK).',\n\t\tDATE AS DATE_DIM PRIMARY KEY (D_DATE_SK) \n                 with synonyms('calendar', 'date_reference')\n                 comment = 'This table stores a dimension of dates, providing a single row for each date, with corresponding surrogate key, month of year, week sequence, and year, to support date-based analysis and reporting in a data warehouse or business intelligence environment',\n\t\tDEMO AS CUSTOMER_DEMOGRAPHICS PRIMARY KEY (CD_DEMO_SK)\n                 with synonyms('client_data', 'demographic_data')\n                 comment = 'This table stores demographic information about customers, including a unique demographic key, credit rating, and marital status.',\n\t\tITEM PRIMARY KEY (I_ITEM_SK)\n                 with synonyms('product', 'merchandise', 'goods', 'commodity')\n                 comment = 'This table stores information about individual items in an inventory, including the brand, category, and class of the item, as well as its unique identifier (I_ITEM_SK), wholesale cost, and current selling price.',\n\t\tSTORE PRIMARY KEY (S_STORE_SK)\n                 with synonyms('retail_store', 'shop', 'retail_outlet', 'market_store')\n                 comment = 'This table stores information about retail stores, including their market identification, floor space, location (state and country), unique store identifier, and tax percentage applicable to the store.',\n\t\tSTORESALES as STORE_SALES PRIMARY KEY (SS_STORE_SK)\n                 with synonyms('store_sales', 'sales_data', 'store_revenue')\n                 comment = 'This table captures sales data for a retail store, including demographic information about the customer, the item sold, the date of sale, the store location, the sales price, and the quantity sold.'\n\t)\n\trelationships (\n\t\tSALESTOCUSTOMER as STORESALES(SS_CUSTOMER_SK) references CUSTOMER(C_CUSTOMER_SK),\n\t\tSALESTODATE as STORESALES(SS_SOLD_DATE_SK) references DATE(D_DATE_SK),\n\t\tSALESTODEMO as STORESALES(SS_CDEMO_SK) references DEMO(CD_DEMO_SK),\n\t\tSALESTOITEM as STORESALES(SS_ITEM_SK) references ITEM(I_ITEM_SK),\n\t\tSALETOSTORE as STORESALES(SS_STORE_SK) references STORE(S_STORE_SK)\n\t)\n\tfacts (\n\t\tITEM.COST as I_WHOLESALE_COST\n                 with synonyms('price', 'bulk_cost', 'item_cost')\n                 comment = 'The wholesale cost of an item, representing the price at which the item is purchased from the supplier.',\n\t\tITEM.PRICE as i_current_price\n                 with synonyms('current_cost', 'current_value', 'item_price')\n                 comment = 'The current price of an item.',\n\t\tSTORE.TAX_RATE as S_TAX_PRECENTAGE\n                 with synonyms('tax_rate', 'tax_percent', 'vat_rate')\n                 comment = 'The percentage of sales tax applied to transactions at each store location.',\n        STORESALES.SALES_QUANTITY as SS_QUANTITY\n                 with synonyms('item_count', 'quantity_sold', 'product_quantity')\n                 comment = 'The quantity of items sold in a single transaction at the store.'\n\t)\n    dimensions (\n\t\tCUSTOMER.BIRTHYEAR as C_BIRTH_YEAR\n                 with synonyms('birth_year', 'year_of_birth')\n                 comment = 'The year in which the customer was born',\n\t\tCUSTOMER.COUNTRY as C_BIRTH_COUNTRY\n                 with synonyms('nationality', 'native_country')\n                 comment = 'The country where the customer was born',\n\t\tCUSTOMER.C_CUSTOMER_SK as c_customer_sk\n                 with synonyms('customer_id', 'customer_key', 'customer_number')\n                 comment = 'Unique identifier for a customer in the customer dimension',\n\t\tDATE.DATE as D_DATE\n                 with synonyms('calendar_date','date_value')\n                 comment = 'Date dimension representing individual dates, allowing for analysis and filtering by specific days.',\n\t\tDATE.D_DATE_SK as d_date_sk\n                 with synonyms('date_key', 'date_surrogate_key', 'date_id')\n                 comment = 'Unique identifier for a specific date in the date dimension, used to join with fact tables.',\n\t\tDATE.MONTH as D_MOY\n                 with synonyms('month_of_year', 'month_number', 'month_value', 'month')\n                 comment = 'Month of the year, represented as a numerical value (1-12), where 1 corresponds to January and 12 corresponds to December.',\n\t\tDATE.WEEK as D_WEEK_SEQ\n                 with synonyms('week_sequence', 'week_number')\n                 comment = 'A sequential identifier for the week within a given year, starting from 1 for the first week and incrementing by 1 for each subsequent week.',\n\t\tDATE.YEAR as D_YEAR\n                 with synonyms('calendar_year', 'year_number')\n                 comment = 'The year in which a date falls, represented as a four-digit integer.',\n\t\tDEMO.CD_DEMO_SK as cd_demo_sk\n                 with synonyms('demographic_key', 'demographic_id')\n                 comment = 'Unique identifer for the customer demographic_record',\n\t\tDEMO.CREDIT_RATING as CD_CREDIT_RATING\n                 with synonyms('credit_score', 'credit_rank', 'credit_status')\n                 comment = 'A categorical dimension indicating the creditworthiness of a customer, with values representing a good credit rating, low risk of default, or high risk of default.',\n\t\tDEMO.MARITAL_STATUS as CD_MARITAL_STATUS\n                 with synonyms('relationship_status', 'marriage_status')\n                 comment = 'The marital status of the customer, with possible values being Married (M), Single (S), or Divorced (D)',\n\t\tITEM.BRAND as I_BRAND\n                 with synonyms('brand_name', 'item_brand', 'product_brand')\n                 comment = 'The brand or manufacturer of the item.',\n\t\tITEM.CATEGORY as I_CATEGORY\n                 with synonyms('product_category', 'category_name', 'product_group')\n                 comment = 'Category of the item, which can be Sports, Men, or Music, indicating the type of product or merchandise.',\n\t\tITEM.CLASS as I_CLASS\n                 with synonyms('item_class', 'product_category', 'item_type')\n                 comment = 'The type of item being sold, such as a baseball-themed item, a classical-style item, or a womens watch.',\n\t\tITEM.I_ITEM_SK as i_item_sk\n                 with synonyms('item_identifier')\n                 comment = 'Unique identifier for an item in the inventory.',\n\t\tSTORE.MARKET as S_MARKET_ID\n                 with synonyms('market_identifier', 'market_code')\n                 comment = 'Unique identifier for a specific store market.',\n\t\tSTORE.SQUAREFOOTAGE as S_FLOOR_SPACE\n                 with synonyms('square_footage', 'floor_area', 'retail_space')\n                 comment = 'The total square footage of floor space in the store.',\n\t\tSTORE.STATE as S_STATE\n                 with synonyms('state_code', 'location')\n                 comment = 'State where the store is located.',\n\t\tSTORE.STORECOUNTRY as S_COUNTRY\n                 with synonyms('nation', 'land', 'territory', 'state', 'region')\n                 comment = 'The country where the store is physically located.',\n\t\tSTORE.S_STORE_SK as s_store_sk\n                 with synonyms('store_key', 'store_id', 'store_number', 'store_identifier')\n                 comment = 'Unique identifier for a store.',\n\t\tSTORESALES.SS_CDEMO_SK as ss_cdemo_sk\n                 with synonyms('customer_demo_identifier', 'demographic_identifier')\n                 comment = 'Customer demographic key.',\n\t\tSTORESALES.SS_CUSTOMER_SK as ss_customer_sk\n                 with synonyms('customer_id', 'customer_identifier')\n                 comment = 'Unique identifier for the customer who made the sale.',\n\t\tSTORESALES.SS_ITEM_SK as ss_item_sk\n                 with synonyms('item_id', 'item_number')\n                 comment = 'Unique identifier for the item sold.',\n\t\tSTORESALES.SS_SOLD_DATE_SK as ss_sold_date_sk\n                 with synonyms('sale_date', 'transaction_date')\n                 comment = 'Date key for the date the sale was made, in the format of a unique integer value representing the date in the format YYYYMMDD.',\n\t\tSTORESALES.SS_STORE_SK as ss_store_sk\n                 with synonyms('store_key', 'store_id', 'store_number')\n                 comment = 'Unique identifier for the store where the sales transaction occurred.'\n)\n\tmetrics (\n\t\tSTORESALES.TOTALCOST as SUM(item.cost)\n                 with synonyms('total_cost')\n                 comment = 'The total cost of an item, representing the price at which the item is purchased from the supplier.',\n\t\tSTORESALES.TOTALSALESPRICE as SUM(SS_SALES_PRICE)\n                 with synonyms('price')\n                 comment = 'The total amount of money earned from sales of all items in a store.',\n\t\tSTORESALES.TOTALSALESQUANTITY as SUM(SS_QUANTITY)\n                 WITH SYNONYMS = ( 'total sales quantity', 'total sales amount')\n                 comment = 'The total quantity of items sold in a single transaction.'\n)\n;",
   "execution_count": null,
   "outputs": []
  },
  {
   "cell_type": "markdown",
   "id": "d3561721-710e-4a79-905b-194a6a99203e",
   "metadata": {
    "name": "md_step5",
    "collapsed": false
   },
   "source": "## Step 3: Verify the Semantic View Creation\n\nLet's confirm that our semantic view has been successfully created by listing all semantic views in the current database."
  },
  {
   "cell_type": "code",
   "id": "c695373e-ac74-4b62-a1f1-08206cbd5c81",
   "metadata": {
    "language": "sql",
    "name": "sql_step5"
   },
   "source": "-- Lists semantic views in the database that is currently in use\nSHOW SEMANTIC VIEWS;",
   "execution_count": null,
   "outputs": []
  },
  {
   "cell_type": "markdown",
   "id": "87a4e121-fa51-4968-b53d-b65aadb13beb",
   "metadata": {
    "name": "md_step6",
    "collapsed": false
   },
   "source": "## Step 4: Describe the Semantic View\n\nTo understand the structure and components of our newly created semantic view, we can use the `DESC SEMANTIC VIEW` command. This will provide details about its tables, relationships, facts, and dimensions."
  },
  {
   "cell_type": "code",
   "id": "08994b45-88a7-4d79-a570-6a37b8db2e25",
   "metadata": {
    "language": "sql",
    "name": "sql_step6"
   },
   "outputs": [],
   "source": "-- Describes the semantic view named TPCDS_SEMANTIC_VIEW_SM, and as a special bonus uses our new flow operator to filter and project only the metric and dimension names\nDESC SEMANTIC VIEW TPCDS_SEMANTIC_VIEW_SM\n    ->> SELECT \"object_kind\",\"property_value\" as \"parent_object\",\"object_name\" FROM $1\n        WHERE \"object_kind\" IN ('METRIC','DIMENSION') AND \"property\" IN ('TABLE')\n;",
   "execution_count": null
  },
  {
   "cell_type": "markdown",
   "id": "ea0ccd5b-4dc6-489f-b3e4-2e15fdc2dd7f",
   "metadata": {
    "name": "md_step7",
    "collapsed": false
   },
   "source": "## Step 5: \"Talk To\" the Semantic View with Cortex Analyst\n\nSnowflake's Cortex Analyst allows you to interact with your semantic views using natural language. \n\nLet's dynamically generate a link to Cortex Analyst so that you can access the semantic view.\n\nGo to the link in the cell below:"
  },
  {
   "cell_type": "code",
   "id": "55bb9979-789a-4414-83ba-659fd053ab64",
   "metadata": {
    "language": "sql",
    "name": "sql_step7"
   },
   "outputs": [],
   "source": "SELECT 'https://app.snowflake.com/' || CURRENT_ORGANIZATION_NAME() || '/' || CURRENT_ACCOUNT_NAME() || '/#/studio/analyst/databases/SAMPLE_DATA/schemas/TPCDS_SF10TCL/semanticView/TPCDS_SEMANTIC_VIEW_SM/edit' AS RESULT;",
   "execution_count": null
  },
  {
   "cell_type": "code",
   "id": "65d22ac9-c5fb-4a29-8588-3dfe5dea66d7",
   "metadata": {
    "language": "python",
    "name": "py_link",
    "codeCollapsed": false
   },
   "outputs": [],
   "source": "import streamlit as st\n\nlink = sql_step7.to_pandas()['RESULT'].iloc[0]\n\nst.link_button(\"Go to Cortex Analyst\", link)",
   "execution_count": null
  },
  {
   "cell_type": "markdown",
   "id": "14b68fc8-c9b9-42c4-8362-d0426ce3cfee",
   "metadata": {
    "name": "md_question",
    "collapsed": false
   },
   "source": "You can ask in natural language:\n\n*Show me the top selling brands in by total sales quantity in the state 'TX' in the 'Books' category in the year 2003*"
  },
  {
   "cell_type": "markdown",
   "id": "465be0c3-2ee0-498a-9e35-a48da80ac67c",
   "metadata": {
    "name": "md_step8",
    "collapsed": false
   },
   "source": "## Step 6: Query the Semantic View Using SQL\n\nNow that our semantic view is defined, we can easily query it to retrieve aggregated data. The following query demonstrates how to find the top-selling brands in a specific state and category for a given year and month, leveraging the simplified structure provided by the semantic view."
  },
  {
   "cell_type": "code",
   "id": "6d7e8487-51be-4521-b6a2-489dc69cc647",
   "metadata": {
    "language": "sql",
    "name": "sql_step8"
   },
   "outputs": [],
   "source": "-- Query the semantic view to find top selling brands\nSELECT * FROM SEMANTIC_VIEW\n( \n TPCDS_SEMANTIC_VIEW_SM\n    DIMENSIONS \n            Item.Brand,\n            Item.Category,            \n            Date.Year,\n            Date.Month,\n            Store.State\n    METRICS \n        StoreSales.TotalSalesQuantity\n    WHERE\n        Date.Year = '2002' AND Date.Month = '12' AND Store.State ='TX' AND Item.Category = 'Books'\n) \nORDER BY TotalSalesQuantity DESC LIMIT 10;",
   "execution_count": null
  },
  {
   "cell_type": "markdown",
   "id": "4071ee9d-8b8b-46b6-a029-765ce01c98cb",
   "metadata": {
    "name": "step9_streamlit",
    "collapsed": false
   },
   "source": "## Step 7 (Optional): Build an Interactive Data App\n\nIn this step, we'll build 2 simple interactive data apps:\n\n1. Interactive data visualization app\n2. Simple interactive dashboard\n\nFirstly, we'll modify the SQL query to show data for month 12."
  },
  {
   "cell_type": "code",
   "id": "0ff53394-1dd7-4bd8-b2f2-4b72093dcb4d",
   "metadata": {
    "language": "sql",
    "name": "cell1"
   },
   "outputs": [],
   "source": "-- Query the semantic view for month 12\nSELECT * FROM SEMANTIC_VIEW\n( \n TPCDS_SEMANTIC_VIEW_SM\n    DIMENSIONS \n            Item.Brand,\n            Item.Category,            \n            Date.Year,\n            Date.Month,\n            Store.State\n    METRICS \n        StoreSales.TotalSalesQuantity\n    WHERE\n        Date.Year = '2002' AND Date.Month = '12' AND Item.Category = 'Books'\n) \nORDER BY TotalSalesQuantity DESC;",
   "execution_count": null
  },
  {
   "cell_type": "markdown",
   "id": "1c7f4a26-4ea7-4b25-937d-e19c15d9b55b",
   "metadata": {
    "name": "md_df",
    "collapsed": false
   },
   "source": "Next, we'll convert the SQL table to a Pandas DataFrame."
  },
  {
   "cell_type": "code",
   "id": "b7d4b9f8-f952-4497-93dd-98daf3a2a313",
   "metadata": {
    "language": "python",
    "name": "df",
    "codeCollapsed": false
   },
   "outputs": [],
   "source": "cell1.to_pandas()",
   "execution_count": null
  },
  {
   "cell_type": "markdown",
   "id": "3697d6f0-203a-444a-9e53-1f899bbd627a",
   "metadata": {
    "name": "md_visualization",
    "collapsed": false
   },
   "source": "### App 1. Interactive Data Visualization\n\nHere the user can interactively explore the sales data:"
  },
  {
   "cell_type": "code",
   "id": "259e5219-0505-472b-bba1-8c0267cae5c6",
   "metadata": {
    "language": "python",
    "name": "py_visualization",
    "codeCollapsed": false
   },
   "outputs": [],
   "source": "import streamlit as st\nimport pandas as pd\n\nst.title(\"📊 Sales Data Interactive Visualization\")\n\n# Create selectbox for grouping option\ngroup_by = st.selectbox(\n    \"Select grouping option:\",\n    options=['BRAND', 'STATE'],\n    index=0\n)\n\n# Group the data based on selection\nif group_by == 'BRAND':\n    grouped_data = df.groupby('BRAND')['TOTALSALESQUANTITY'].sum().reset_index()\n    grouped_data = grouped_data.set_index('BRAND')\n    chart_title = \"Total Sales Quantity by Brand\"\nelse:  # group_by == 'STATE'\n    grouped_data = df.groupby('STATE')['TOTALSALESQUANTITY'].sum().reset_index()\n    grouped_data = grouped_data.set_index('STATE')\n    chart_title = \"Total Sales Quantity by State\"\n\n# Display the chart\nst.subheader(chart_title)\nst.bar_chart(grouped_data['TOTALSALESQUANTITY'])\n\n# Optional: Display the data table\nif st.checkbox(\"Show data table\"):\n    st.subheader(\"Grouped Data\")\n    st.dataframe(grouped_data)",
   "execution_count": null
  },
  {
   "cell_type": "markdown",
   "id": "06fa1609-7084-41ee-9646-a8a0a79047c4",
   "metadata": {
    "name": "md_dashboard",
    "collapsed": false
   },
   "source": "### App 2. Dashboard\n\nHere's a simple dashboard we're we've included a row of metrics:"
  },
  {
   "cell_type": "code",
   "id": "54077554-94ee-4a56-b499-02a327c506de",
   "metadata": {
    "language": "python",
    "name": "py_dashboard",
    "codeCollapsed": false
   },
   "outputs": [],
   "source": "import streamlit as st\nimport pandas as pd\n\nst.title(\"📊 Sales Data Dashboard\")\n\n# Create selectbox for grouping option\ngroup_by = st.selectbox(\n    \"Select grouping option:\",\n    options=['BRAND', 'STATE'],\n    index=0\n)\n\n# Group the data based on selection\nif group_by == 'BRAND':\n    grouped_data = df.groupby('BRAND')['TOTALSALESQUANTITY'].sum().reset_index()\n    grouped_data = grouped_data.set_index('BRAND')\n    chart_title = \"Total Sales Quantity by Brand\"\nelse:  # group_by == 'STATE'\n    grouped_data = df.groupby('STATE')['TOTALSALESQUANTITY'].sum().reset_index()\n    grouped_data = grouped_data.set_index('STATE')\n    chart_title = \"Total Sales Quantity by State\"\n\n# Calculate KPIs based on current grouping\ntotal_sales = df['TOTALSALESQUANTITY'].sum()\navg_sales = df['TOTALSALESQUANTITY'].mean()\ntop_performer = grouped_data['TOTALSALESQUANTITY'].max()\ntop_performer_name = grouped_data['TOTALSALESQUANTITY'].idxmax()\n\n# Display KPI metrics in 3 columns\ncol1, col2, col3 = st.columns(3)\n\nwith col1:\n    st.metric(\n        label=\"Total Sales Quantity\", \n        value=f\"{total_sales:,.0f}\",\n        delta=None\n    )\n\nwith col2:\n    if group_by == 'BRAND':\n        st.metric(\n            label=\"Average Sales per Brand\", \n            value=f\"{avg_sales:,.0f}\",\n            delta=f\"{((avg_sales/total_sales)*100):.3f}% of total\"\n        )\n    else:\n        st.metric(\n            label=\"Average Sales per State\", \n            value=f\"{avg_sales:,.0f}\",\n            delta=f\"{len(df['STATE'].unique())} state(s)\"\n        )\n\nwith col3:\n    st.metric(\n        label=f\"Top {group_by.title()}\", \n        value=f\"{top_performer:,.0f}\",\n        delta=f\"{top_performer_name}\"\n    )\n\n# Display the chart\nst.subheader(chart_title)\nst.bar_chart(grouped_data['TOTALSALESQUANTITY'])\n\n# Optional: Display the data table\nif st.checkbox(\"Show data table\"):\n    st.subheader(\"Grouped Data\")\n    st.dataframe(grouped_data)",
   "execution_count": null
  },
  {
   "cell_type": "markdown",
   "id": "a27ed12b-9cbf-47c6-81ef-e8d84307e93f",
   "metadata": {
    "name": "md_resources",
    "collapsed": false
   },
   "source": "## Related Resources\n\nArticles:\n\n- [Using SQL commands to create and manage semantic views](https://docs.snowflake.com/user-guide/views-semantic/sql)\n- [Using the Cortex Analyst Semantic View Generator](https://docs.snowflake.com/en/user-guide/views-semantic/ui)\n- [Sample Data: TPC-DS](https://docs.snowflake.com/en/user-guide/sample-data-tpcds)\n- [TPC-DS Benchmark Overview](https://www.tpc.org/tpcds/) - Understanding the sample dataset used in this guide\n\nDocumentation:\n- [Overview of semantic views](https://docs.snowflake.com/en/user-guide/views-semantic/overview)\n- [CREATE SEMANTIC VIEW](https://docs.snowflake.com/en/sql-reference/sql/create-semantic-view)\n- [DROP SEMANTIC VIEW](https://docs.snowflake.com/en/sql-reference/sql/drop-semantic-view)\n- [SHOW SEMANTIC VIEWS](https://docs.snowflake.com/en/sql-reference/sql/show-semantic-views)\n- [DESCRIBE SEMANTIC VIEW](https://docs.snowflake.com/en/sql-reference/sql/desc-semantic-view)"
  }
 ]
}